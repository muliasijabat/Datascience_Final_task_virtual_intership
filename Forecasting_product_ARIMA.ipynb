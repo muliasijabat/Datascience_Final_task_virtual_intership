{
 "cells": [
  {
   "cell_type": "markdown",
   "metadata": {},
   "source": [
    "# Background Story"
   ]
  },
  {
   "cell_type": "markdown",
   "metadata": {},
   "source": [
    "Kamu adalah seorang Data Scientist di Kalbe Nutritionals dan sedang mendapatkan project baru dari tim inventory dan tim marketing.\n",
    "\n",
    "**Dari tim inventory**\n",
    "Kamu diminta untuk dapat membantu memprediksi jumlah penjualan (quantity) dari total keseluruhan product Kalbe\n",
    "1. Tujuan dari project ini adalah untuk mengetahui perkiraan quantity product yang terjual sehingga tim inventory dapat membuat stock persediaan harian yang cukup.\n",
    "2. Prediksi yang dilakukan harus harian.\n",
    "\n",
    "**Dari tim marketing**\n",
    "Kamu diminta untuk membuat cluster/segment customer berdasarkan beberapa kriteria.\n",
    "1. Tujuan dari project ini adalah untuk membuat segment customer.\n",
    "2. Segment customer ini nantinya akan digunakan oleh tim marketing untuk memberikan personalized promotion dan sales treatment."
   ]
  },
  {
   "cell_type": "markdown",
   "metadata": {},
   "source": [
    "# Import Library"
   ]
  },
  {
   "cell_type": "code",
   "execution_count": 3,
   "metadata": {},
   "outputs": [],
   "source": [
    "import numpy as np\n",
    "import pandas as pd\n",
    "from datetime import datetime\n",
    "\n",
    "import matplotlib.pyplot as plt\n",
    "import seaborn as sns"
   ]
  },
  {
   "cell_type": "code",
   "execution_count": 4,
   "metadata": {},
   "outputs": [],
   "source": [
    "from statsmodels.tsa.stattools import adfuller\n",
    "from pmdarima import auto_arima\n",
    "from pmdarima.arima import auto_arima\n",
    "\n",
    "import warnings\n",
    "warnings.filterwarnings('ignore')"
   ]
  },
  {
   "cell_type": "code",
   "execution_count": 5,
   "metadata": {},
   "outputs": [],
   "source": [
    "from sklearn.metrics import mean_squared_error\n",
    "from math import sqrt"
   ]
  },
  {
   "cell_type": "markdown",
   "metadata": {},
   "source": [
    "# Load Dataset"
   ]
  },
  {
   "cell_type": "code",
   "execution_count": 6,
   "metadata": {},
   "outputs": [],
   "source": [
    "customer = pd.read_csv('Data/Data Bersih(SQL)/Customer.csv')\n",
    "product = pd.read_csv('Data/Data Bersih(SQL)/Product.csv')\n",
    "store = pd.read_csv('Data/Data Bersih(SQL)/Store.csv')\n",
    "transaction = pd.read_csv('Data/Data Bersih(SQL)/Transaction.csv')"
   ]
  },
  {
   "cell_type": "code",
   "execution_count": 7,
   "metadata": {},
   "outputs": [
    {
     "data": {
      "text/html": [
       "<div>\n",
       "<style scoped>\n",
       "    .dataframe tbody tr th:only-of-type {\n",
       "        vertical-align: middle;\n",
       "    }\n",
       "\n",
       "    .dataframe tbody tr th {\n",
       "        vertical-align: top;\n",
       "    }\n",
       "\n",
       "    .dataframe thead th {\n",
       "        text-align: right;\n",
       "    }\n",
       "</style>\n",
       "<table border=\"1\" class=\"dataframe\">\n",
       "  <thead>\n",
       "    <tr style=\"text-align: right;\">\n",
       "      <th></th>\n",
       "      <th>CustomerID</th>\n",
       "      <th>Age</th>\n",
       "      <th>Gender</th>\n",
       "      <th>MaritalStatus</th>\n",
       "      <th>Income</th>\n",
       "    </tr>\n",
       "  </thead>\n",
       "  <tbody>\n",
       "    <tr>\n",
       "      <th>0</th>\n",
       "      <td>1</td>\n",
       "      <td>55</td>\n",
       "      <td>1</td>\n",
       "      <td>Married</td>\n",
       "      <td>5.12</td>\n",
       "    </tr>\n",
       "    <tr>\n",
       "      <th>1</th>\n",
       "      <td>2</td>\n",
       "      <td>60</td>\n",
       "      <td>1</td>\n",
       "      <td>Married</td>\n",
       "      <td>6.23</td>\n",
       "    </tr>\n",
       "    <tr>\n",
       "      <th>2</th>\n",
       "      <td>3</td>\n",
       "      <td>32</td>\n",
       "      <td>1</td>\n",
       "      <td>Married</td>\n",
       "      <td>9.17</td>\n",
       "    </tr>\n",
       "    <tr>\n",
       "      <th>3</th>\n",
       "      <td>4</td>\n",
       "      <td>31</td>\n",
       "      <td>1</td>\n",
       "      <td>Married</td>\n",
       "      <td>4.87</td>\n",
       "    </tr>\n",
       "    <tr>\n",
       "      <th>4</th>\n",
       "      <td>5</td>\n",
       "      <td>58</td>\n",
       "      <td>1</td>\n",
       "      <td>Married</td>\n",
       "      <td>3.57</td>\n",
       "    </tr>\n",
       "  </tbody>\n",
       "</table>\n",
       "</div>"
      ],
      "text/plain": [
       "   CustomerID  Age  Gender MaritalStatus  Income\n",
       "0           1   55       1       Married    5.12\n",
       "1           2   60       1       Married    6.23\n",
       "2           3   32       1       Married    9.17\n",
       "3           4   31       1       Married    4.87\n",
       "4           5   58       1       Married    3.57"
      ]
     },
     "execution_count": 7,
     "metadata": {},
     "output_type": "execute_result"
    }
   ],
   "source": [
    "customer.head()"
   ]
  },
  {
   "cell_type": "code",
   "execution_count": 8,
   "metadata": {},
   "outputs": [
    {
     "data": {
      "text/html": [
       "<div>\n",
       "<style scoped>\n",
       "    .dataframe tbody tr th:only-of-type {\n",
       "        vertical-align: middle;\n",
       "    }\n",
       "\n",
       "    .dataframe tbody tr th {\n",
       "        vertical-align: top;\n",
       "    }\n",
       "\n",
       "    .dataframe thead th {\n",
       "        text-align: right;\n",
       "    }\n",
       "</style>\n",
       "<table border=\"1\" class=\"dataframe\">\n",
       "  <thead>\n",
       "    <tr style=\"text-align: right;\">\n",
       "      <th></th>\n",
       "      <th>ProductID</th>\n",
       "      <th>ProductName</th>\n",
       "      <th>Price</th>\n",
       "    </tr>\n",
       "  </thead>\n",
       "  <tbody>\n",
       "    <tr>\n",
       "      <th>0</th>\n",
       "      <td>P1</td>\n",
       "      <td>Choco Bar</td>\n",
       "      <td>8800</td>\n",
       "    </tr>\n",
       "    <tr>\n",
       "      <th>1</th>\n",
       "      <td>P10</td>\n",
       "      <td>Cheese Stick</td>\n",
       "      <td>15000</td>\n",
       "    </tr>\n",
       "    <tr>\n",
       "      <th>2</th>\n",
       "      <td>P2</td>\n",
       "      <td>Ginger Candy</td>\n",
       "      <td>3200</td>\n",
       "    </tr>\n",
       "    <tr>\n",
       "      <th>3</th>\n",
       "      <td>P3</td>\n",
       "      <td>Crackers</td>\n",
       "      <td>7500</td>\n",
       "    </tr>\n",
       "    <tr>\n",
       "      <th>4</th>\n",
       "      <td>P4</td>\n",
       "      <td>Potato Chip</td>\n",
       "      <td>12000</td>\n",
       "    </tr>\n",
       "  </tbody>\n",
       "</table>\n",
       "</div>"
      ],
      "text/plain": [
       "  ProductID    ProductName  Price\n",
       "0        P1      Choco Bar   8800\n",
       "1       P10   Cheese Stick  15000\n",
       "2        P2  Ginger Candy    3200\n",
       "3        P3       Crackers   7500\n",
       "4        P4    Potato Chip  12000"
      ]
     },
     "execution_count": 8,
     "metadata": {},
     "output_type": "execute_result"
    }
   ],
   "source": [
    "product.head()"
   ]
  },
  {
   "cell_type": "code",
   "execution_count": 9,
   "metadata": {},
   "outputs": [
    {
     "data": {
      "text/html": [
       "<div>\n",
       "<style scoped>\n",
       "    .dataframe tbody tr th:only-of-type {\n",
       "        vertical-align: middle;\n",
       "    }\n",
       "\n",
       "    .dataframe tbody tr th {\n",
       "        vertical-align: top;\n",
       "    }\n",
       "\n",
       "    .dataframe thead th {\n",
       "        text-align: right;\n",
       "    }\n",
       "</style>\n",
       "<table border=\"1\" class=\"dataframe\">\n",
       "  <thead>\n",
       "    <tr style=\"text-align: right;\">\n",
       "      <th></th>\n",
       "      <th>StoreID</th>\n",
       "      <th>StoreName</th>\n",
       "      <th>GroupStore</th>\n",
       "      <th>Type</th>\n",
       "      <th>Latitude</th>\n",
       "      <th>Longitude</th>\n",
       "    </tr>\n",
       "  </thead>\n",
       "  <tbody>\n",
       "    <tr>\n",
       "      <th>0</th>\n",
       "      <td>1</td>\n",
       "      <td>Prima Tendean</td>\n",
       "      <td>Prima</td>\n",
       "      <td>Modern Trade</td>\n",
       "      <td>-6.20000</td>\n",
       "      <td>106.817</td>\n",
       "    </tr>\n",
       "    <tr>\n",
       "      <th>1</th>\n",
       "      <td>2</td>\n",
       "      <td>Prima Kelapa Dua</td>\n",
       "      <td>Prima</td>\n",
       "      <td>Modern Trade</td>\n",
       "      <td>-6.91486</td>\n",
       "      <td>107.608</td>\n",
       "    </tr>\n",
       "    <tr>\n",
       "      <th>2</th>\n",
       "      <td>3</td>\n",
       "      <td>Prima Kota</td>\n",
       "      <td>Prima</td>\n",
       "      <td>Modern Trade</td>\n",
       "      <td>-7.79707</td>\n",
       "      <td>110.371</td>\n",
       "    </tr>\n",
       "    <tr>\n",
       "      <th>3</th>\n",
       "      <td>4</td>\n",
       "      <td>Gita Ginara</td>\n",
       "      <td>Gita</td>\n",
       "      <td>General Trade</td>\n",
       "      <td>-6.96667</td>\n",
       "      <td>110.417</td>\n",
       "    </tr>\n",
       "    <tr>\n",
       "      <th>4</th>\n",
       "      <td>5</td>\n",
       "      <td>Bonafid</td>\n",
       "      <td>Gita</td>\n",
       "      <td>General Trade</td>\n",
       "      <td>-7.25044</td>\n",
       "      <td>112.769</td>\n",
       "    </tr>\n",
       "  </tbody>\n",
       "</table>\n",
       "</div>"
      ],
      "text/plain": [
       "   StoreID         StoreName GroupStore           Type  Latitude  Longitude\n",
       "0        1     Prima Tendean      Prima   Modern Trade  -6.20000    106.817\n",
       "1        2  Prima Kelapa Dua      Prima   Modern Trade  -6.91486    107.608\n",
       "2        3        Prima Kota      Prima   Modern Trade  -7.79707    110.371\n",
       "3        4       Gita Ginara       Gita  General Trade  -6.96667    110.417\n",
       "4        5           Bonafid       Gita  General Trade  -7.25044    112.769"
      ]
     },
     "execution_count": 9,
     "metadata": {},
     "output_type": "execute_result"
    }
   ],
   "source": [
    "store.head()"
   ]
  },
  {
   "cell_type": "code",
   "execution_count": 10,
   "metadata": {},
   "outputs": [
    {
     "data": {
      "text/html": [
       "<div>\n",
       "<style scoped>\n",
       "    .dataframe tbody tr th:only-of-type {\n",
       "        vertical-align: middle;\n",
       "    }\n",
       "\n",
       "    .dataframe tbody tr th {\n",
       "        vertical-align: top;\n",
       "    }\n",
       "\n",
       "    .dataframe thead th {\n",
       "        text-align: right;\n",
       "    }\n",
       "</style>\n",
       "<table border=\"1\" class=\"dataframe\">\n",
       "  <thead>\n",
       "    <tr style=\"text-align: right;\">\n",
       "      <th></th>\n",
       "      <th>TransactionID</th>\n",
       "      <th>CustomerID</th>\n",
       "      <th>Date</th>\n",
       "      <th>ProductID</th>\n",
       "      <th>Price</th>\n",
       "      <th>Qty</th>\n",
       "      <th>TotalAmount</th>\n",
       "      <th>StoreID</th>\n",
       "      <th>Sequence</th>\n",
       "    </tr>\n",
       "  </thead>\n",
       "  <tbody>\n",
       "    <tr>\n",
       "      <th>0</th>\n",
       "      <td>TR67501</td>\n",
       "      <td>85</td>\n",
       "      <td>2022-01-08</td>\n",
       "      <td>P4</td>\n",
       "      <td>12000</td>\n",
       "      <td>3</td>\n",
       "      <td>36000</td>\n",
       "      <td>13</td>\n",
       "      <td>1</td>\n",
       "    </tr>\n",
       "    <tr>\n",
       "      <th>1</th>\n",
       "      <td>TR21798</td>\n",
       "      <td>83</td>\n",
       "      <td>2022-02-10</td>\n",
       "      <td>P9</td>\n",
       "      <td>10000</td>\n",
       "      <td>5</td>\n",
       "      <td>50000</td>\n",
       "      <td>11</td>\n",
       "      <td>2</td>\n",
       "    </tr>\n",
       "    <tr>\n",
       "      <th>2</th>\n",
       "      <td>TR11369</td>\n",
       "      <td>328</td>\n",
       "      <td>2022-01-01</td>\n",
       "      <td>P3</td>\n",
       "      <td>7500</td>\n",
       "      <td>4</td>\n",
       "      <td>30000</td>\n",
       "      <td>12</td>\n",
       "      <td>3</td>\n",
       "    </tr>\n",
       "    <tr>\n",
       "      <th>3</th>\n",
       "      <td>TR70157</td>\n",
       "      <td>415</td>\n",
       "      <td>2022-01-08</td>\n",
       "      <td>P8</td>\n",
       "      <td>16000</td>\n",
       "      <td>2</td>\n",
       "      <td>32000</td>\n",
       "      <td>4</td>\n",
       "      <td>4</td>\n",
       "    </tr>\n",
       "    <tr>\n",
       "      <th>4</th>\n",
       "      <td>TR84962</td>\n",
       "      <td>55</td>\n",
       "      <td>2022-01-08</td>\n",
       "      <td>P3</td>\n",
       "      <td>7500</td>\n",
       "      <td>5</td>\n",
       "      <td>37500</td>\n",
       "      <td>7</td>\n",
       "      <td>5</td>\n",
       "    </tr>\n",
       "  </tbody>\n",
       "</table>\n",
       "</div>"
      ],
      "text/plain": [
       "  TransactionID  CustomerID        Date ProductID  Price  Qty  TotalAmount  \\\n",
       "0       TR67501          85  2022-01-08        P4  12000    3        36000   \n",
       "1       TR21798          83  2022-02-10        P9  10000    5        50000   \n",
       "2       TR11369         328  2022-01-01        P3   7500    4        30000   \n",
       "3       TR70157         415  2022-01-08        P8  16000    2        32000   \n",
       "4       TR84962          55  2022-01-08        P3   7500    5        37500   \n",
       "\n",
       "   StoreID  Sequence  \n",
       "0       13         1  \n",
       "1       11         2  \n",
       "2       12         3  \n",
       "3        4         4  \n",
       "4        7         5  "
      ]
     },
     "execution_count": 10,
     "metadata": {},
     "output_type": "execute_result"
    }
   ],
   "source": [
    "transaction.head()"
   ]
  },
  {
   "cell_type": "markdown",
   "metadata": {},
   "source": [
    "# Deskripsi Data"
   ]
  },
  {
   "cell_type": "markdown",
   "metadata": {},
   "source": [
    "Dataset ini terdiri dari 4 csv file yaitu customer, store, product dan transaction.\n",
    "Merupakan dummy data untuk studi kasus FMCG dalam kurun waktu 1 tahun yang diambil melalui program membership.\n",
    "\n",
    "Penjelasan \n",
    "1. Customer\n",
    "- CustomerID : No Unik Customer\n",
    "- Age : Usia Customer\n",
    "- Gender : 0 Wanita, 1 Pria\n",
    "- Marital Status : Married, Single (Blm menikah/Pernah menikah)\n",
    "- Income : Pendapatan per bulan dalam jutaan rupiah\n",
    "\n",
    "2. Store\n",
    "- StoreID : Kode Unik Store\n",
    "- StoreName : Nama Toko\n",
    "- GroupStore : Nama group\n",
    "- Type : Modern Trade, General Trade\n",
    "- Latitude : Kode Latitude\n",
    "- Longitude : Kode Longitude\n",
    "\n",
    "3. Product\n",
    "- ProductID : Kode Unik Product\n",
    "- Product Name : Nama Product\n",
    "- Price : Harga dlm rupiah\n",
    "\n",
    "4. Transaction\n",
    "- TransactionID : Kode Unik Transaksi\n",
    "- Date : Tanggal transaksi\n",
    "- Qty : Jumlah item yang dibeli\n",
    "- Total Amount : Price x Qty"
   ]
  },
  {
   "cell_type": "markdown",
   "metadata": {},
   "source": [
    "# Cek Anomali Data"
   ]
  },
  {
   "cell_type": "code",
   "execution_count": 11,
   "metadata": {},
   "outputs": [
    {
     "name": "stdout",
     "output_type": "stream",
     "text": [
      "<class 'pandas.core.frame.DataFrame'>\n",
      "RangeIndex: 441 entries, 0 to 440\n",
      "Data columns (total 5 columns):\n",
      " #   Column         Non-Null Count  Dtype  \n",
      "---  ------         --------------  -----  \n",
      " 0   CustomerID     441 non-null    int64  \n",
      " 1   Age            441 non-null    int64  \n",
      " 2   Gender         441 non-null    int64  \n",
      " 3   MaritalStatus  441 non-null    object \n",
      " 4   Income         441 non-null    float64\n",
      "dtypes: float64(1), int64(3), object(1)\n",
      "memory usage: 17.4+ KB\n"
     ]
    }
   ],
   "source": [
    "customer.info()"
   ]
  },
  {
   "cell_type": "code",
   "execution_count": 12,
   "metadata": {},
   "outputs": [
    {
     "name": "stdout",
     "output_type": "stream",
     "text": [
      "<class 'pandas.core.frame.DataFrame'>\n",
      "RangeIndex: 14 entries, 0 to 13\n",
      "Data columns (total 6 columns):\n",
      " #   Column      Non-Null Count  Dtype  \n",
      "---  ------      --------------  -----  \n",
      " 0   StoreID     14 non-null     int64  \n",
      " 1   StoreName   14 non-null     object \n",
      " 2   GroupStore  14 non-null     object \n",
      " 3   Type        14 non-null     object \n",
      " 4   Latitude    14 non-null     float64\n",
      " 5   Longitude   14 non-null     float64\n",
      "dtypes: float64(2), int64(1), object(3)\n",
      "memory usage: 800.0+ bytes\n"
     ]
    }
   ],
   "source": [
    "store.info()"
   ]
  },
  {
   "cell_type": "code",
   "execution_count": 13,
   "metadata": {},
   "outputs": [
    {
     "name": "stdout",
     "output_type": "stream",
     "text": [
      "<class 'pandas.core.frame.DataFrame'>\n",
      "RangeIndex: 10 entries, 0 to 9\n",
      "Data columns (total 3 columns):\n",
      " #   Column       Non-Null Count  Dtype \n",
      "---  ------       --------------  ----- \n",
      " 0   ProductID    10 non-null     object\n",
      " 1   ProductName  10 non-null     object\n",
      " 2   Price        10 non-null     int64 \n",
      "dtypes: int64(1), object(2)\n",
      "memory usage: 368.0+ bytes\n"
     ]
    }
   ],
   "source": [
    "product.info()"
   ]
  },
  {
   "cell_type": "code",
   "execution_count": 14,
   "metadata": {},
   "outputs": [
    {
     "name": "stdout",
     "output_type": "stream",
     "text": [
      "<class 'pandas.core.frame.DataFrame'>\n",
      "RangeIndex: 5020 entries, 0 to 5019\n",
      "Data columns (total 9 columns):\n",
      " #   Column         Non-Null Count  Dtype \n",
      "---  ------         --------------  ----- \n",
      " 0   TransactionID  5020 non-null   object\n",
      " 1   CustomerID     5020 non-null   int64 \n",
      " 2   Date           5020 non-null   object\n",
      " 3   ProductID      5020 non-null   object\n",
      " 4   Price          5020 non-null   int64 \n",
      " 5   Qty            5020 non-null   int64 \n",
      " 6   TotalAmount    5020 non-null   int64 \n",
      " 7   StoreID        5020 non-null   int64 \n",
      " 8   Sequence       5020 non-null   int64 \n",
      "dtypes: int64(6), object(3)\n",
      "memory usage: 353.1+ KB\n"
     ]
    }
   ],
   "source": [
    "transaction.info()"
   ]
  },
  {
   "cell_type": "markdown",
   "metadata": {},
   "source": [
    "ubah data pada date menjadi DateTime"
   ]
  },
  {
   "cell_type": "code",
   "execution_count": 15,
   "metadata": {},
   "outputs": [],
   "source": [
    "transaction['Date'] = pd.to_datetime(transaction['Date'])"
   ]
  },
  {
   "cell_type": "code",
   "execution_count": 16,
   "metadata": {},
   "outputs": [
    {
     "name": "stdout",
     "output_type": "stream",
     "text": [
      "Data duplikat pada Customer ada sebanyak 0\n",
      "Data duplikat pada Product ada sebanyak 0\n",
      "Data duplikat pada Store ada sebanyak 0\n",
      "Data duplikat pada Store ada sebanyak 0\n"
     ]
    }
   ],
   "source": [
    "duplikat_customer = customer.duplicated().sum()\n",
    "print('Data duplikat pada Customer ada sebanyak', duplikat_customer)\n",
    "\n",
    "duplikat_product = product.duplicated().sum()\n",
    "print('Data duplikat pada Product ada sebanyak', duplikat_product)\n",
    "\n",
    "duplikat_store = store.duplicated().sum()\n",
    "print('Data duplikat pada Store ada sebanyak', duplikat_store)\n",
    "    \n",
    "duplikat_transaksi = transaction.duplicated().sum()\n",
    "print('Data duplikat pada Store ada sebanyak', duplikat_transaksi)"
   ]
  },
  {
   "cell_type": "code",
   "execution_count": 17,
   "metadata": {},
   "outputs": [
    {
     "data": {
      "text/html": [
       "<div>\n",
       "<style scoped>\n",
       "    .dataframe tbody tr th:only-of-type {\n",
       "        vertical-align: middle;\n",
       "    }\n",
       "\n",
       "    .dataframe tbody tr th {\n",
       "        vertical-align: top;\n",
       "    }\n",
       "\n",
       "    .dataframe thead th {\n",
       "        text-align: right;\n",
       "    }\n",
       "</style>\n",
       "<table border=\"1\" class=\"dataframe\">\n",
       "  <thead>\n",
       "    <tr style=\"text-align: right;\">\n",
       "      <th></th>\n",
       "      <th>CustomerID</th>\n",
       "      <th>Age</th>\n",
       "      <th>Gender</th>\n",
       "      <th>Income</th>\n",
       "    </tr>\n",
       "  </thead>\n",
       "  <tbody>\n",
       "    <tr>\n",
       "      <th>count</th>\n",
       "      <td>441.000000</td>\n",
       "      <td>441.000000</td>\n",
       "      <td>441.000000</td>\n",
       "      <td>441.000000</td>\n",
       "    </tr>\n",
       "    <tr>\n",
       "      <th>mean</th>\n",
       "      <td>224.591837</td>\n",
       "      <td>40.099773</td>\n",
       "      <td>0.451247</td>\n",
       "      <td>8.633016</td>\n",
       "    </tr>\n",
       "    <tr>\n",
       "      <th>std</th>\n",
       "      <td>128.234626</td>\n",
       "      <td>12.520856</td>\n",
       "      <td>0.498183</td>\n",
       "      <td>6.638645</td>\n",
       "    </tr>\n",
       "    <tr>\n",
       "      <th>min</th>\n",
       "      <td>1.000000</td>\n",
       "      <td>18.000000</td>\n",
       "      <td>0.000000</td>\n",
       "      <td>0.000000</td>\n",
       "    </tr>\n",
       "    <tr>\n",
       "      <th>25%</th>\n",
       "      <td>114.000000</td>\n",
       "      <td>31.000000</td>\n",
       "      <td>0.000000</td>\n",
       "      <td>4.180000</td>\n",
       "    </tr>\n",
       "    <tr>\n",
       "      <th>50%</th>\n",
       "      <td>225.000000</td>\n",
       "      <td>39.000000</td>\n",
       "      <td>0.000000</td>\n",
       "      <td>7.550000</td>\n",
       "    </tr>\n",
       "    <tr>\n",
       "      <th>75%</th>\n",
       "      <td>335.000000</td>\n",
       "      <td>51.000000</td>\n",
       "      <td>1.000000</td>\n",
       "      <td>10.860000</td>\n",
       "    </tr>\n",
       "    <tr>\n",
       "      <th>max</th>\n",
       "      <td>447.000000</td>\n",
       "      <td>72.000000</td>\n",
       "      <td>1.000000</td>\n",
       "      <td>71.300000</td>\n",
       "    </tr>\n",
       "  </tbody>\n",
       "</table>\n",
       "</div>"
      ],
      "text/plain": [
       "       CustomerID         Age      Gender      Income\n",
       "count  441.000000  441.000000  441.000000  441.000000\n",
       "mean   224.591837   40.099773    0.451247    8.633016\n",
       "std    128.234626   12.520856    0.498183    6.638645\n",
       "min      1.000000   18.000000    0.000000    0.000000\n",
       "25%    114.000000   31.000000    0.000000    4.180000\n",
       "50%    225.000000   39.000000    0.000000    7.550000\n",
       "75%    335.000000   51.000000    1.000000   10.860000\n",
       "max    447.000000   72.000000    1.000000   71.300000"
      ]
     },
     "execution_count": 17,
     "metadata": {},
     "output_type": "execute_result"
    }
   ],
   "source": [
    "customer.describe()"
   ]
  },
  {
   "cell_type": "code",
   "execution_count": 18,
   "metadata": {},
   "outputs": [
    {
     "data": {
      "text/html": [
       "<div>\n",
       "<style scoped>\n",
       "    .dataframe tbody tr th:only-of-type {\n",
       "        vertical-align: middle;\n",
       "    }\n",
       "\n",
       "    .dataframe tbody tr th {\n",
       "        vertical-align: top;\n",
       "    }\n",
       "\n",
       "    .dataframe thead th {\n",
       "        text-align: right;\n",
       "    }\n",
       "</style>\n",
       "<table border=\"1\" class=\"dataframe\">\n",
       "  <thead>\n",
       "    <tr style=\"text-align: right;\">\n",
       "      <th></th>\n",
       "      <th>Price</th>\n",
       "    </tr>\n",
       "  </thead>\n",
       "  <tbody>\n",
       "    <tr>\n",
       "      <th>count</th>\n",
       "      <td>10.000000</td>\n",
       "    </tr>\n",
       "    <tr>\n",
       "      <th>mean</th>\n",
       "      <td>10410.000000</td>\n",
       "    </tr>\n",
       "    <tr>\n",
       "      <th>std</th>\n",
       "      <td>4890.455557</td>\n",
       "    </tr>\n",
       "    <tr>\n",
       "      <th>min</th>\n",
       "      <td>3200.000000</td>\n",
       "    </tr>\n",
       "    <tr>\n",
       "      <th>25%</th>\n",
       "      <td>7825.000000</td>\n",
       "    </tr>\n",
       "    <tr>\n",
       "      <th>50%</th>\n",
       "      <td>9700.000000</td>\n",
       "    </tr>\n",
       "    <tr>\n",
       "      <th>75%</th>\n",
       "      <td>14250.000000</td>\n",
       "    </tr>\n",
       "    <tr>\n",
       "      <th>max</th>\n",
       "      <td>18000.000000</td>\n",
       "    </tr>\n",
       "  </tbody>\n",
       "</table>\n",
       "</div>"
      ],
      "text/plain": [
       "              Price\n",
       "count     10.000000\n",
       "mean   10410.000000\n",
       "std     4890.455557\n",
       "min     3200.000000\n",
       "25%     7825.000000\n",
       "50%     9700.000000\n",
       "75%    14250.000000\n",
       "max    18000.000000"
      ]
     },
     "execution_count": 18,
     "metadata": {},
     "output_type": "execute_result"
    }
   ],
   "source": [
    "product.describe()"
   ]
  },
  {
   "cell_type": "code",
   "execution_count": 19,
   "metadata": {},
   "outputs": [
    {
     "data": {
      "text/html": [
       "<div>\n",
       "<style scoped>\n",
       "    .dataframe tbody tr th:only-of-type {\n",
       "        vertical-align: middle;\n",
       "    }\n",
       "\n",
       "    .dataframe tbody tr th {\n",
       "        vertical-align: top;\n",
       "    }\n",
       "\n",
       "    .dataframe thead th {\n",
       "        text-align: right;\n",
       "    }\n",
       "</style>\n",
       "<table border=\"1\" class=\"dataframe\">\n",
       "  <thead>\n",
       "    <tr style=\"text-align: right;\">\n",
       "      <th></th>\n",
       "      <th>StoreID</th>\n",
       "      <th>Latitude</th>\n",
       "      <th>Longitude</th>\n",
       "    </tr>\n",
       "  </thead>\n",
       "  <tbody>\n",
       "    <tr>\n",
       "      <th>count</th>\n",
       "      <td>14.0000</td>\n",
       "      <td>14.000000</td>\n",
       "      <td>14.000000</td>\n",
       "    </tr>\n",
       "    <tr>\n",
       "      <th>mean</th>\n",
       "      <td>7.5000</td>\n",
       "      <td>-2.902408</td>\n",
       "      <td>109.463236</td>\n",
       "    </tr>\n",
       "    <tr>\n",
       "      <th>std</th>\n",
       "      <td>4.1833</td>\n",
       "      <td>4.516743</td>\n",
       "      <td>8.654846</td>\n",
       "    </tr>\n",
       "    <tr>\n",
       "      <th>min</th>\n",
       "      <td>1.0000</td>\n",
       "      <td>-7.797070</td>\n",
       "      <td>95.323800</td>\n",
       "    </tr>\n",
       "    <tr>\n",
       "      <th>25%</th>\n",
       "      <td>4.2500</td>\n",
       "      <td>-6.736145</td>\n",
       "      <td>104.884500</td>\n",
       "    </tr>\n",
       "    <tr>\n",
       "      <th>50%</th>\n",
       "      <td>7.5000</td>\n",
       "      <td>-4.395050</td>\n",
       "      <td>108.989500</td>\n",
       "    </tr>\n",
       "    <tr>\n",
       "      <th>75%</th>\n",
       "      <td>10.7500</td>\n",
       "      <td>0.082839</td>\n",
       "      <td>114.134750</td>\n",
       "    </tr>\n",
       "    <tr>\n",
       "      <th>max</th>\n",
       "      <td>14.0000</td>\n",
       "      <td>5.548290</td>\n",
       "      <td>128.191000</td>\n",
       "    </tr>\n",
       "  </tbody>\n",
       "</table>\n",
       "</div>"
      ],
      "text/plain": [
       "       StoreID   Latitude   Longitude\n",
       "count  14.0000  14.000000   14.000000\n",
       "mean    7.5000  -2.902408  109.463236\n",
       "std     4.1833   4.516743    8.654846\n",
       "min     1.0000  -7.797070   95.323800\n",
       "25%     4.2500  -6.736145  104.884500\n",
       "50%     7.5000  -4.395050  108.989500\n",
       "75%    10.7500   0.082839  114.134750\n",
       "max    14.0000   5.548290  128.191000"
      ]
     },
     "execution_count": 19,
     "metadata": {},
     "output_type": "execute_result"
    }
   ],
   "source": [
    "store.describe()"
   ]
  },
  {
   "cell_type": "code",
   "execution_count": 20,
   "metadata": {},
   "outputs": [
    {
     "data": {
      "text/html": [
       "<div>\n",
       "<style scoped>\n",
       "    .dataframe tbody tr th:only-of-type {\n",
       "        vertical-align: middle;\n",
       "    }\n",
       "\n",
       "    .dataframe tbody tr th {\n",
       "        vertical-align: top;\n",
       "    }\n",
       "\n",
       "    .dataframe thead th {\n",
       "        text-align: right;\n",
       "    }\n",
       "</style>\n",
       "<table border=\"1\" class=\"dataframe\">\n",
       "  <thead>\n",
       "    <tr style=\"text-align: right;\">\n",
       "      <th></th>\n",
       "      <th>CustomerID</th>\n",
       "      <th>Date</th>\n",
       "      <th>Price</th>\n",
       "      <th>Qty</th>\n",
       "      <th>TotalAmount</th>\n",
       "      <th>StoreID</th>\n",
       "      <th>Sequence</th>\n",
       "    </tr>\n",
       "  </thead>\n",
       "  <tbody>\n",
       "    <tr>\n",
       "      <th>count</th>\n",
       "      <td>5020.000000</td>\n",
       "      <td>5020</td>\n",
       "      <td>5020.000000</td>\n",
       "      <td>5020.000000</td>\n",
       "      <td>5020.000000</td>\n",
       "      <td>5020.000000</td>\n",
       "      <td>5020.000000</td>\n",
       "    </tr>\n",
       "    <tr>\n",
       "      <th>mean</th>\n",
       "      <td>221.263745</td>\n",
       "      <td>2022-06-29 00:32:24.860557824</td>\n",
       "      <td>9684.800797</td>\n",
       "      <td>3.644622</td>\n",
       "      <td>32279.482072</td>\n",
       "      <td>7.489841</td>\n",
       "      <td>2510.500000</td>\n",
       "    </tr>\n",
       "    <tr>\n",
       "      <th>min</th>\n",
       "      <td>1.000000</td>\n",
       "      <td>2022-01-01 00:00:00</td>\n",
       "      <td>3200.000000</td>\n",
       "      <td>1.000000</td>\n",
       "      <td>7500.000000</td>\n",
       "      <td>1.000000</td>\n",
       "      <td>1.000000</td>\n",
       "    </tr>\n",
       "    <tr>\n",
       "      <th>25%</th>\n",
       "      <td>108.000000</td>\n",
       "      <td>2022-03-30 00:00:00</td>\n",
       "      <td>4200.000000</td>\n",
       "      <td>2.000000</td>\n",
       "      <td>16000.000000</td>\n",
       "      <td>4.000000</td>\n",
       "      <td>1255.750000</td>\n",
       "    </tr>\n",
       "    <tr>\n",
       "      <th>50%</th>\n",
       "      <td>221.000000</td>\n",
       "      <td>2022-06-26 00:00:00</td>\n",
       "      <td>9400.000000</td>\n",
       "      <td>3.000000</td>\n",
       "      <td>28200.000000</td>\n",
       "      <td>7.000000</td>\n",
       "      <td>2510.500000</td>\n",
       "    </tr>\n",
       "    <tr>\n",
       "      <th>75%</th>\n",
       "      <td>332.000000</td>\n",
       "      <td>2022-09-28 00:00:00</td>\n",
       "      <td>15000.000000</td>\n",
       "      <td>5.000000</td>\n",
       "      <td>47000.000000</td>\n",
       "      <td>11.000000</td>\n",
       "      <td>3765.250000</td>\n",
       "    </tr>\n",
       "    <tr>\n",
       "      <th>max</th>\n",
       "      <td>447.000000</td>\n",
       "      <td>2022-12-31 00:00:00</td>\n",
       "      <td>18000.000000</td>\n",
       "      <td>10.000000</td>\n",
       "      <td>88000.000000</td>\n",
       "      <td>14.000000</td>\n",
       "      <td>5020.000000</td>\n",
       "    </tr>\n",
       "    <tr>\n",
       "      <th>std</th>\n",
       "      <td>129.672955</td>\n",
       "      <td>NaN</td>\n",
       "      <td>4600.708780</td>\n",
       "      <td>1.855295</td>\n",
       "      <td>19675.462455</td>\n",
       "      <td>4.028502</td>\n",
       "      <td>1449.293506</td>\n",
       "    </tr>\n",
       "  </tbody>\n",
       "</table>\n",
       "</div>"
      ],
      "text/plain": [
       "        CustomerID                           Date         Price          Qty  \\\n",
       "count  5020.000000                           5020   5020.000000  5020.000000   \n",
       "mean    221.263745  2022-06-29 00:32:24.860557824   9684.800797     3.644622   \n",
       "min       1.000000            2022-01-01 00:00:00   3200.000000     1.000000   \n",
       "25%     108.000000            2022-03-30 00:00:00   4200.000000     2.000000   \n",
       "50%     221.000000            2022-06-26 00:00:00   9400.000000     3.000000   \n",
       "75%     332.000000            2022-09-28 00:00:00  15000.000000     5.000000   \n",
       "max     447.000000            2022-12-31 00:00:00  18000.000000    10.000000   \n",
       "std     129.672955                            NaN   4600.708780     1.855295   \n",
       "\n",
       "        TotalAmount      StoreID     Sequence  \n",
       "count   5020.000000  5020.000000  5020.000000  \n",
       "mean   32279.482072     7.489841  2510.500000  \n",
       "min     7500.000000     1.000000     1.000000  \n",
       "25%    16000.000000     4.000000  1255.750000  \n",
       "50%    28200.000000     7.000000  2510.500000  \n",
       "75%    47000.000000    11.000000  3765.250000  \n",
       "max    88000.000000    14.000000  5020.000000  \n",
       "std    19675.462455     4.028502  1449.293506  "
      ]
     },
     "execution_count": 20,
     "metadata": {},
     "output_type": "execute_result"
    }
   ],
   "source": [
    "transaction.describe()"
   ]
  },
  {
   "cell_type": "markdown",
   "metadata": {},
   "source": [
    "# Merge Data"
   ]
  },
  {
   "cell_type": "code",
   "execution_count": 21,
   "metadata": {},
   "outputs": [],
   "source": [
    "df_merge = pd.merge(transaction, customer, on='CustomerID', how='inner')\n",
    "df_merge = pd.merge(df_merge, product.drop(columns=('Price')), on='ProductID', how='inner')\n",
    "df_merge = pd.merge(df_merge, store, on='StoreID', how='inner')"
   ]
  },
  {
   "cell_type": "code",
   "execution_count": 22,
   "metadata": {},
   "outputs": [
    {
     "data": {
      "text/html": [
       "<div>\n",
       "<style scoped>\n",
       "    .dataframe tbody tr th:only-of-type {\n",
       "        vertical-align: middle;\n",
       "    }\n",
       "\n",
       "    .dataframe tbody tr th {\n",
       "        vertical-align: top;\n",
       "    }\n",
       "\n",
       "    .dataframe thead th {\n",
       "        text-align: right;\n",
       "    }\n",
       "</style>\n",
       "<table border=\"1\" class=\"dataframe\">\n",
       "  <thead>\n",
       "    <tr style=\"text-align: right;\">\n",
       "      <th></th>\n",
       "      <th>TransactionID</th>\n",
       "      <th>CustomerID</th>\n",
       "      <th>Date</th>\n",
       "      <th>ProductID</th>\n",
       "      <th>Price</th>\n",
       "      <th>Qty</th>\n",
       "      <th>TotalAmount</th>\n",
       "      <th>StoreID</th>\n",
       "      <th>Sequence</th>\n",
       "      <th>Age</th>\n",
       "      <th>Gender</th>\n",
       "      <th>MaritalStatus</th>\n",
       "      <th>Income</th>\n",
       "      <th>ProductName</th>\n",
       "      <th>StoreName</th>\n",
       "      <th>GroupStore</th>\n",
       "      <th>Type</th>\n",
       "      <th>Latitude</th>\n",
       "      <th>Longitude</th>\n",
       "    </tr>\n",
       "  </thead>\n",
       "  <tbody>\n",
       "    <tr>\n",
       "      <th>0</th>\n",
       "      <td>TR67501</td>\n",
       "      <td>85</td>\n",
       "      <td>2022-01-08</td>\n",
       "      <td>P4</td>\n",
       "      <td>12000</td>\n",
       "      <td>3</td>\n",
       "      <td>36000</td>\n",
       "      <td>13</td>\n",
       "      <td>1</td>\n",
       "      <td>59</td>\n",
       "      <td>1</td>\n",
       "      <td>Married</td>\n",
       "      <td>7.89</td>\n",
       "      <td>Potato Chip</td>\n",
       "      <td>Buana</td>\n",
       "      <td>Buana</td>\n",
       "      <td>General Trade</td>\n",
       "      <td>-1.26916</td>\n",
       "      <td>116.825</td>\n",
       "    </tr>\n",
       "    <tr>\n",
       "      <th>1</th>\n",
       "      <td>TR578</td>\n",
       "      <td>55</td>\n",
       "      <td>2022-07-15</td>\n",
       "      <td>P4</td>\n",
       "      <td>12000</td>\n",
       "      <td>1</td>\n",
       "      <td>12000</td>\n",
       "      <td>13</td>\n",
       "      <td>2898</td>\n",
       "      <td>34</td>\n",
       "      <td>1</td>\n",
       "      <td>Married</td>\n",
       "      <td>8.44</td>\n",
       "      <td>Potato Chip</td>\n",
       "      <td>Buana</td>\n",
       "      <td>Buana</td>\n",
       "      <td>General Trade</td>\n",
       "      <td>-1.26916</td>\n",
       "      <td>116.825</td>\n",
       "    </tr>\n",
       "    <tr>\n",
       "      <th>2</th>\n",
       "      <td>TR10955</td>\n",
       "      <td>222</td>\n",
       "      <td>2022-05-23</td>\n",
       "      <td>P4</td>\n",
       "      <td>12000</td>\n",
       "      <td>1</td>\n",
       "      <td>12000</td>\n",
       "      <td>13</td>\n",
       "      <td>2025</td>\n",
       "      <td>45</td>\n",
       "      <td>0</td>\n",
       "      <td>Married</td>\n",
       "      <td>15.03</td>\n",
       "      <td>Potato Chip</td>\n",
       "      <td>Buana</td>\n",
       "      <td>Buana</td>\n",
       "      <td>General Trade</td>\n",
       "      <td>-1.26916</td>\n",
       "      <td>116.825</td>\n",
       "    </tr>\n",
       "    <tr>\n",
       "      <th>3</th>\n",
       "      <td>TR70238</td>\n",
       "      <td>23</td>\n",
       "      <td>2022-04-14</td>\n",
       "      <td>P4</td>\n",
       "      <td>12000</td>\n",
       "      <td>2</td>\n",
       "      <td>24000</td>\n",
       "      <td>13</td>\n",
       "      <td>1178</td>\n",
       "      <td>57</td>\n",
       "      <td>1</td>\n",
       "      <td>Married</td>\n",
       "      <td>12.56</td>\n",
       "      <td>Potato Chip</td>\n",
       "      <td>Buana</td>\n",
       "      <td>Buana</td>\n",
       "      <td>General Trade</td>\n",
       "      <td>-1.26916</td>\n",
       "      <td>116.825</td>\n",
       "    </tr>\n",
       "    <tr>\n",
       "      <th>4</th>\n",
       "      <td>TR3631</td>\n",
       "      <td>168</td>\n",
       "      <td>2022-07-12</td>\n",
       "      <td>P4</td>\n",
       "      <td>12000</td>\n",
       "      <td>3</td>\n",
       "      <td>36000</td>\n",
       "      <td>13</td>\n",
       "      <td>2817</td>\n",
       "      <td>27</td>\n",
       "      <td>0</td>\n",
       "      <td>Married</td>\n",
       "      <td>4.88</td>\n",
       "      <td>Potato Chip</td>\n",
       "      <td>Buana</td>\n",
       "      <td>Buana</td>\n",
       "      <td>General Trade</td>\n",
       "      <td>-1.26916</td>\n",
       "      <td>116.825</td>\n",
       "    </tr>\n",
       "  </tbody>\n",
       "</table>\n",
       "</div>"
      ],
      "text/plain": [
       "  TransactionID  CustomerID       Date ProductID  Price  Qty  TotalAmount  \\\n",
       "0       TR67501          85 2022-01-08        P4  12000    3        36000   \n",
       "1         TR578          55 2022-07-15        P4  12000    1        12000   \n",
       "2       TR10955         222 2022-05-23        P4  12000    1        12000   \n",
       "3       TR70238          23 2022-04-14        P4  12000    2        24000   \n",
       "4        TR3631         168 2022-07-12        P4  12000    3        36000   \n",
       "\n",
       "   StoreID  Sequence  Age  Gender MaritalStatus  Income  ProductName  \\\n",
       "0       13         1   59       1       Married    7.89  Potato Chip   \n",
       "1       13      2898   34       1       Married    8.44  Potato Chip   \n",
       "2       13      2025   45       0       Married   15.03  Potato Chip   \n",
       "3       13      1178   57       1       Married   12.56  Potato Chip   \n",
       "4       13      2817   27       0       Married    4.88  Potato Chip   \n",
       "\n",
       "  StoreName GroupStore           Type  Latitude  Longitude  \n",
       "0     Buana      Buana  General Trade  -1.26916    116.825  \n",
       "1     Buana      Buana  General Trade  -1.26916    116.825  \n",
       "2     Buana      Buana  General Trade  -1.26916    116.825  \n",
       "3     Buana      Buana  General Trade  -1.26916    116.825  \n",
       "4     Buana      Buana  General Trade  -1.26916    116.825  "
      ]
     },
     "execution_count": 22,
     "metadata": {},
     "output_type": "execute_result"
    }
   ],
   "source": [
    "df_merge.head()"
   ]
  },
  {
   "cell_type": "code",
   "execution_count": 23,
   "metadata": {},
   "outputs": [],
   "source": [
    "df_merge.to_csv(\"Data/Data Bersih(SQL)/~DataMart.csv\")"
   ]
  },
  {
   "cell_type": "markdown",
   "metadata": {},
   "source": [
    "# Exploritori Data Analyst and Visualisasi"
   ]
  },
  {
   "cell_type": "code",
   "execution_count": 24,
   "metadata": {},
   "outputs": [
    {
     "data": {
      "text/html": [
       "<div>\n",
       "<style scoped>\n",
       "    .dataframe tbody tr th:only-of-type {\n",
       "        vertical-align: middle;\n",
       "    }\n",
       "\n",
       "    .dataframe tbody tr th {\n",
       "        vertical-align: top;\n",
       "    }\n",
       "\n",
       "    .dataframe thead th {\n",
       "        text-align: right;\n",
       "    }\n",
       "</style>\n",
       "<table border=\"1\" class=\"dataframe\">\n",
       "  <thead>\n",
       "    <tr style=\"text-align: right;\">\n",
       "      <th></th>\n",
       "      <th>Date</th>\n",
       "      <th>Qty</th>\n",
       "    </tr>\n",
       "  </thead>\n",
       "  <tbody>\n",
       "    <tr>\n",
       "      <th>0</th>\n",
       "      <td>2022-01-01</td>\n",
       "      <td>49</td>\n",
       "    </tr>\n",
       "    <tr>\n",
       "      <th>1</th>\n",
       "      <td>2022-01-02</td>\n",
       "      <td>59</td>\n",
       "    </tr>\n",
       "    <tr>\n",
       "      <th>2</th>\n",
       "      <td>2022-01-03</td>\n",
       "      <td>63</td>\n",
       "    </tr>\n",
       "    <tr>\n",
       "      <th>3</th>\n",
       "      <td>2022-01-04</td>\n",
       "      <td>45</td>\n",
       "    </tr>\n",
       "    <tr>\n",
       "      <th>4</th>\n",
       "      <td>2022-01-05</td>\n",
       "      <td>28</td>\n",
       "    </tr>\n",
       "  </tbody>\n",
       "</table>\n",
       "</div>"
      ],
      "text/plain": [
       "        Date  Qty\n",
       "0 2022-01-01   49\n",
       "1 2022-01-02   59\n",
       "2 2022-01-03   63\n",
       "3 2022-01-04   45\n",
       "4 2022-01-05   28"
      ]
     },
     "execution_count": 24,
     "metadata": {},
     "output_type": "execute_result"
    }
   ],
   "source": [
    "# buat dataframe baru\n",
    "df = df_merge.groupby('Date')['Qty'].sum().reset_index()\n",
    "df.head()"
   ]
  },
  {
   "cell_type": "code",
   "execution_count": 25,
   "metadata": {},
   "outputs": [
    {
     "data": {
      "text/html": [
       "<div>\n",
       "<style scoped>\n",
       "    .dataframe tbody tr th:only-of-type {\n",
       "        vertical-align: middle;\n",
       "    }\n",
       "\n",
       "    .dataframe tbody tr th {\n",
       "        vertical-align: top;\n",
       "    }\n",
       "\n",
       "    .dataframe thead th {\n",
       "        text-align: right;\n",
       "    }\n",
       "</style>\n",
       "<table border=\"1\" class=\"dataframe\">\n",
       "  <thead>\n",
       "    <tr style=\"text-align: right;\">\n",
       "      <th></th>\n",
       "      <th>Qty</th>\n",
       "    </tr>\n",
       "    <tr>\n",
       "      <th>Date</th>\n",
       "      <th></th>\n",
       "    </tr>\n",
       "  </thead>\n",
       "  <tbody>\n",
       "    <tr>\n",
       "      <th>2022-01-01</th>\n",
       "      <td>49</td>\n",
       "    </tr>\n",
       "    <tr>\n",
       "      <th>2022-01-02</th>\n",
       "      <td>59</td>\n",
       "    </tr>\n",
       "    <tr>\n",
       "      <th>2022-01-03</th>\n",
       "      <td>63</td>\n",
       "    </tr>\n",
       "    <tr>\n",
       "      <th>2022-01-04</th>\n",
       "      <td>45</td>\n",
       "    </tr>\n",
       "    <tr>\n",
       "      <th>2022-01-05</th>\n",
       "      <td>28</td>\n",
       "    </tr>\n",
       "  </tbody>\n",
       "</table>\n",
       "</div>"
      ],
      "text/plain": [
       "            Qty\n",
       "Date           \n",
       "2022-01-01   49\n",
       "2022-01-02   59\n",
       "2022-01-03   63\n",
       "2022-01-04   45\n",
       "2022-01-05   28"
      ]
     },
     "execution_count": 25,
     "metadata": {},
     "output_type": "execute_result"
    }
   ],
   "source": [
    "#Set Date sebagai index\n",
    "df.set_index('Date', inplace=True)\n",
    "df.head()"
   ]
  },
  {
   "cell_type": "code",
   "execution_count": 26,
   "metadata": {},
   "outputs": [
    {
     "data": {
      "text/plain": [
       "[<matplotlib.lines.Line2D at 0x201cf13fee0>]"
      ]
     },
     "execution_count": 26,
     "metadata": {},
     "output_type": "execute_result"
    },
    {
     "data": {
      "image/png": "[encoded data removed]",
      "text/plain": [
       "<Figure size 1500x300 with 1 Axes>"
      ]
     },
     "metadata": {},
     "output_type": "display_data"
    }
   ],
   "source": [
    "# melihat stasionari dari data\n",
    "plt.figure(figsize=(15,3))\n",
    "plt.xlabel('Tanggal')\n",
    "plt.ylabel('Jumlah produk')\n",
    "plt.plot(df)"
   ]
  },
  {
   "cell_type": "markdown",
   "metadata": {},
   "source": [
    "Menampilkan grafik produk dari 01/2022 s.d 12/2022. Dimana data tersebut bersifat berulang."
   ]
  },
  {
   "cell_type": "markdown",
   "metadata": {},
   "source": [
    "# Cek Stasionary"
   ]
  },
  {
   "cell_type": "markdown",
   "metadata": {},
   "source": [
    " hasil uji Augmented Dickey-Fuller (ADF) gunanya untuk memeriksa apakah data deret waktu bersifat stasioner"
   ]
  },
  {
   "cell_type": "code",
   "execution_count": 27,
   "metadata": {},
   "outputs": [
    {
     "name": "stdout",
     "output_type": "stream",
     "text": [
      "1. ADF : -19.11935492108116\n",
      "2. P-Value : 0.0\n",
      "3. Num of Lags : 0\n",
      "4. Num of Observation used for ADF Regression and Critical Values Calculation : 364\n",
      "5. Critical Values:\n",
      "\t 1% : -3.4484434475193777\n",
      "\t 5% : -2.869513170510808\n",
      "\t 10% : -2.571017574266393\n"
     ]
    }
   ],
   "source": [
    "def ad_test(dataset):\n",
    "    dftest = adfuller(dataset, autolag = 'AIC')\n",
    "\n",
    "    print(\"1. ADF :\", dftest[0])\n",
    "    print(\"2. P-Value :\", dftest[1])\n",
    "    print(\"3. Num of Lags :\", dftest[2])\n",
    "    print(\"4. Num of Observation used for ADF Regression and Critical Values Calculation :\", dftest[3])\n",
    "    print(\"5. Critical Values:\")\n",
    "    for key, val in dftest[4].items():\n",
    "        print(\"\\t\", key, \":\", val)\n",
    "\n",
    "ad_test(df['Qty'])"
   ]
  },
  {
   "cell_type": "markdown",
   "metadata": {},
   "source": [
    "Secara keseluruhan, hasil ini menunjukkan bahwa data deret waktu bersifat stasioner, seperti yang ditunjukkan oleh nilai p yang sangat rendah dan statistik ADF yang lebih negatif daripada nilai kritis pada berbagai tingkat signifikansi."
   ]
  },
  {
   "cell_type": "code",
   "execution_count": 28,
   "metadata": {},
   "outputs": [
    {
     "name": "stdout",
     "output_type": "stream",
     "text": [
      "Performing stepwise search to minimize aic\n",
      " ARIMA(2,1,2)(0,0,0)[0] intercept   : AIC=inf, Time=2.48 sec\n",
      " ARIMA(0,1,0)(0,0,0)[0] intercept   : AIC=3340.912, Time=0.04 sec\n",
      " ARIMA(1,1,0)(0,0,0)[0] intercept   : AIC=3236.063, Time=0.14 sec\n",
      " ARIMA(0,1,1)(0,0,0)[0] intercept   : AIC=inf, Time=0.38 sec\n",
      " ARIMA(0,1,0)(0,0,0)[0]             : AIC=3338.913, Time=0.03 sec\n",
      " ARIMA(2,1,0)(0,0,0)[0] intercept   : AIC=3198.932, Time=0.23 sec\n",
      " ARIMA(3,1,0)(0,0,0)[0] intercept   : AIC=3155.784, Time=0.29 sec\n",
      " ARIMA(4,1,0)(0,0,0)[0] intercept   : AIC=3149.738, Time=0.63 sec\n",
      " ARIMA(5,1,0)(0,0,0)[0] intercept   : AIC=3134.015, Time=0.49 sec\n",
      " ARIMA(5,1,1)(0,0,0)[0] intercept   : AIC=inf, Time=1.65 sec\n",
      " ARIMA(4,1,1)(0,0,0)[0] intercept   : AIC=inf, Time=1.46 sec\n",
      " ARIMA(5,1,0)(0,0,0)[0]             : AIC=3132.022, Time=0.36 sec\n",
      " ARIMA(4,1,0)(0,0,0)[0]             : AIC=3147.744, Time=0.27 sec\n",
      " ARIMA(5,1,1)(0,0,0)[0]             : AIC=3094.246, Time=0.88 sec\n",
      " ARIMA(4,1,1)(0,0,0)[0]             : AIC=3092.755, Time=0.66 sec\n",
      " ARIMA(3,1,1)(0,0,0)[0]             : AIC=3094.465, Time=0.46 sec\n",
      " ARIMA(4,1,2)(0,0,0)[0]             : AIC=3093.301, Time=1.03 sec\n",
      " ARIMA(3,1,0)(0,0,0)[0]             : AIC=3153.793, Time=0.22 sec\n",
      " ARIMA(3,1,2)(0,0,0)[0]             : AIC=3093.090, Time=0.65 sec\n",
      " ARIMA(5,1,2)(0,0,0)[0]             : AIC=3095.300, Time=1.84 sec\n",
      "\n",
      "Best model:  ARIMA(4,1,1)(0,0,0)[0]          \n",
      "Total fit time: 14.723 seconds\n"
     ]
    },
    {
     "data": {
      "text/html": [
       "<table class=\"simpletable\">\n",
       "<caption>SARIMAX Results</caption>\n",
       "<tr>\n",
       "  <th>Dep. Variable:</th>           <td>y</td>        <th>  No. Observations:  </th>    <td>365</td>   \n",
       "</tr>\n",
       "<tr>\n",
       "  <th>Model:</th>           <td>SARIMAX(4, 1, 1)</td> <th>  Log Likelihood     </th> <td>-1540.377</td>\n",
       "</tr>\n",
       "<tr>\n",
       "  <th>Date:</th>            <td>Thu, 19 Oct 2023</td> <th>  AIC                </th> <td>3092.755</td> \n",
       "</tr>\n",
       "<tr>\n",
       "  <th>Time:</th>                <td>16:08:48</td>     <th>  BIC                </th> <td>3116.138</td> \n",
       "</tr>\n",
       "<tr>\n",
       "  <th>Sample:</th>             <td>01-01-2022</td>    <th>  HQIC               </th> <td>3102.049</td> \n",
       "</tr>\n",
       "<tr>\n",
       "  <th></th>                   <td>- 12-31-2022</td>   <th>                     </th>     <td> </td>    \n",
       "</tr>\n",
       "<tr>\n",
       "  <th>Covariance Type:</th>        <td>opg</td>       <th>                     </th>     <td> </td>    \n",
       "</tr>\n",
       "</table>\n",
       "<table class=\"simpletable\">\n",
       "<tr>\n",
       "     <td></td>       <th>coef</th>     <th>std err</th>      <th>z</th>      <th>P>|z|</th>  <th>[0.025</th>    <th>0.975]</th>  \n",
       "</tr>\n",
       "<tr>\n",
       "  <th>ar.L1</th>  <td>   -0.0172</td> <td>    0.048</td> <td>   -0.359</td> <td> 0.720</td> <td>   -0.111</td> <td>    0.077</td>\n",
       "</tr>\n",
       "<tr>\n",
       "  <th>ar.L2</th>  <td>   -0.0103</td> <td>    0.052</td> <td>   -0.198</td> <td> 0.843</td> <td>   -0.112</td> <td>    0.092</td>\n",
       "</tr>\n",
       "<tr>\n",
       "  <th>ar.L3</th>  <td>   -0.0323</td> <td>    0.051</td> <td>   -0.632</td> <td> 0.527</td> <td>   -0.133</td> <td>    0.068</td>\n",
       "</tr>\n",
       "<tr>\n",
       "  <th>ar.L4</th>  <td>    0.1015</td> <td>    0.052</td> <td>    1.937</td> <td> 0.053</td> <td>   -0.001</td> <td>    0.204</td>\n",
       "</tr>\n",
       "<tr>\n",
       "  <th>ma.L1</th>  <td>   -0.9860</td> <td>    0.013</td> <td>  -76.164</td> <td> 0.000</td> <td>   -1.011</td> <td>   -0.961</td>\n",
       "</tr>\n",
       "<tr>\n",
       "  <th>sigma2</th> <td>  274.7839</td> <td>   20.460</td> <td>   13.430</td> <td> 0.000</td> <td>  234.683</td> <td>  314.885</td>\n",
       "</tr>\n",
       "</table>\n",
       "<table class=\"simpletable\">\n",
       "<tr>\n",
       "  <th>Ljung-Box (L1) (Q):</th>     <td>0.00</td> <th>  Jarque-Bera (JB):  </th> <td>22.48</td>\n",
       "</tr>\n",
       "<tr>\n",
       "  <th>Prob(Q):</th>                <td>0.99</td> <th>  Prob(JB):          </th> <td>0.00</td> \n",
       "</tr>\n",
       "<tr>\n",
       "  <th>Heteroskedasticity (H):</th> <td>0.68</td> <th>  Skew:              </th> <td>0.55</td> \n",
       "</tr>\n",
       "<tr>\n",
       "  <th>Prob(H) (two-sided):</th>    <td>0.03</td> <th>  Kurtosis:          </th> <td>3.51</td> \n",
       "</tr>\n",
       "</table><br/><br/>Warnings:<br/>[1] Covariance matrix calculated using the outer product of gradients (complex-step)."
      ],
      "text/latex": [
       "\\begin{center}\n",
       "\\begin{tabular}{lclc}\n",
       "\\toprule\n",
       "\\textbf{Dep. Variable:}          &        y         & \\textbf{  No. Observations:  } &    365      \\\\\n",
       "\\textbf{Model:}                  & SARIMAX(4, 1, 1) & \\textbf{  Log Likelihood     } & -1540.377   \\\\\n",
       "\\textbf{Date:}                   & Thu, 19 Oct 2023 & \\textbf{  AIC                } &  3092.755   \\\\\n",
       "\\textbf{Time:}                   &     16:08:48     & \\textbf{  BIC                } &  3116.138   \\\\\n",
       "\\textbf{Sample:}                 &    01-01-2022    & \\textbf{  HQIC               } &  3102.049   \\\\\n",
       "\\textbf{}                        &   - 12-31-2022   & \\textbf{                     } &             \\\\\n",
       "\\textbf{Covariance Type:}        &       opg        & \\textbf{                     } &             \\\\\n",
       "\\bottomrule\n",
       "\\end{tabular}\n",
       "\\begin{tabular}{lcccccc}\n",
       "                & \\textbf{coef} & \\textbf{std err} & \\textbf{z} & \\textbf{P$> |$z$|$} & \\textbf{[0.025} & \\textbf{0.975]}  \\\\\n",
       "\\midrule\n",
       "\\textbf{ar.L1}  &      -0.0172  &        0.048     &    -0.359  &         0.720        &       -0.111    &        0.077     \\\\\n",
       "\\textbf{ar.L2}  &      -0.0103  &        0.052     &    -0.198  &         0.843        &       -0.112    &        0.092     \\\\\n",
       "\\textbf{ar.L3}  &      -0.0323  &        0.051     &    -0.632  &         0.527        &       -0.133    &        0.068     \\\\\n",
       "\\textbf{ar.L4}  &       0.1015  &        0.052     &     1.937  &         0.053        &       -0.001    &        0.204     \\\\\n",
       "\\textbf{ma.L1}  &      -0.9860  &        0.013     &   -76.164  &         0.000        &       -1.011    &       -0.961     \\\\\n",
       "\\textbf{sigma2} &     274.7839  &       20.460     &    13.430  &         0.000        &      234.683    &      314.885     \\\\\n",
       "\\bottomrule\n",
       "\\end{tabular}\n",
       "\\begin{tabular}{lclc}\n",
       "\\textbf{Ljung-Box (L1) (Q):}     & 0.00 & \\textbf{  Jarque-Bera (JB):  } & 22.48  \\\\\n",
       "\\textbf{Prob(Q):}                & 0.99 & \\textbf{  Prob(JB):          } &  0.00  \\\\\n",
       "\\textbf{Heteroskedasticity (H):} & 0.68 & \\textbf{  Skew:              } &  0.55  \\\\\n",
       "\\textbf{Prob(H) (two-sided):}    & 0.03 & \\textbf{  Kurtosis:          } &  3.51  \\\\\n",
       "\\bottomrule\n",
       "\\end{tabular}\n",
       "%\\caption{SARIMAX Results}\n",
       "\\end{center}\n",
       "\n",
       "Warnings: \\newline\n",
       " [1] Covariance matrix calculated using the outer product of gradients (complex-step)."
      ],
      "text/plain": [
       "<class 'statsmodels.iolib.summary.Summary'>\n",
       "\"\"\"\n",
       "                               SARIMAX Results                                \n",
       "==============================================================================\n",
       "Dep. Variable:                      y   No. Observations:                  365\n",
       "Model:               SARIMAX(4, 1, 1)   Log Likelihood               -1540.377\n",
       "Date:                Thu, 19 Oct 2023   AIC                           3092.755\n",
       "Time:                        16:08:48   BIC                           3116.138\n",
       "Sample:                    01-01-2022   HQIC                          3102.049\n",
       "                         - 12-31-2022                                         \n",
       "Covariance Type:                  opg                                         \n",
       "==============================================================================\n",
       "                 coef    std err          z      P>|z|      [0.025      0.975]\n",
       "------------------------------------------------------------------------------\n",
       "ar.L1         -0.0172      0.048     -0.359      0.720      -0.111       0.077\n",
       "ar.L2         -0.0103      0.052     -0.198      0.843      -0.112       0.092\n",
       "ar.L3         -0.0323      0.051     -0.632      0.527      -0.133       0.068\n",
       "ar.L4          0.1015      0.052      1.937      0.053      -0.001       0.204\n",
       "ma.L1         -0.9860      0.013    -76.164      0.000      -1.011      -0.961\n",
       "sigma2       274.7839     20.460     13.430      0.000     234.683     314.885\n",
       "===================================================================================\n",
       "Ljung-Box (L1) (Q):                   0.00   Jarque-Bera (JB):                22.48\n",
       "Prob(Q):                              0.99   Prob(JB):                         0.00\n",
       "Heteroskedasticity (H):               0.68   Skew:                             0.55\n",
       "Prob(H) (two-sided):                  0.03   Kurtosis:                         3.51\n",
       "===================================================================================\n",
       "\n",
       "Warnings:\n",
       "[1] Covariance matrix calculated using the outer product of gradients (complex-step).\n",
       "\"\"\""
      ]
     },
     "execution_count": 28,
     "metadata": {},
     "output_type": "execute_result"
    }
   ],
   "source": [
    "stepwise_fit = auto_arima(df['Qty'], trace=True, suppress_warnings=True)\n",
    "stepwise_fit.summary()"
   ]
  },
  {
   "cell_type": "markdown",
   "metadata": {},
   "source": [
    "Best model:  ARIMA(4,1,1)(0,0,0)[0]"
   ]
  },
  {
   "cell_type": "markdown",
   "metadata": {},
   "source": [
    "# Split Data"
   ]
  },
  {
   "cell_type": "code",
   "execution_count": 29,
   "metadata": {},
   "outputs": [
    {
     "name": "stdout",
     "output_type": "stream",
     "text": [
      "(365, 1)\n",
      "Train (292, 1)\n",
      "Test (73, 1)\n"
     ]
    }
   ],
   "source": [
    "print(df.shape)\n",
    "train_size = int(len(df) * 0.8)\n",
    "train, test = df[:train_size], df[train_size:]\n",
    "print('Train', train.shape)\n",
    "print('Test', test.shape)"
   ]
  },
  {
   "cell_type": "markdown",
   "metadata": {},
   "source": [
    "# Train Model"
   ]
  },
  {
   "cell_type": "code",
   "execution_count": 30,
   "metadata": {},
   "outputs": [
    {
     "data": {
      "text/html": [
       "<table class=\"simpletable\">\n",
       "<caption>SARIMAX Results</caption>\n",
       "<tr>\n",
       "  <th>Dep. Variable:</th>          <td>Qty</td>       <th>  No. Observations:  </th>    <td>292</td>   \n",
       "</tr>\n",
       "<tr>\n",
       "  <th>Model:</th>            <td>ARIMA(4, 1, 1)</td>  <th>  Log Likelihood     </th> <td>-1241.721</td>\n",
       "</tr>\n",
       "<tr>\n",
       "  <th>Date:</th>            <td>Thu, 19 Oct 2023</td> <th>  AIC                </th> <td>2495.442</td> \n",
       "</tr>\n",
       "<tr>\n",
       "  <th>Time:</th>                <td>16:08:49</td>     <th>  BIC                </th> <td>2517.482</td> \n",
       "</tr>\n",
       "<tr>\n",
       "  <th>Sample:</th>             <td>01-01-2022</td>    <th>  HQIC               </th> <td>2504.271</td> \n",
       "</tr>\n",
       "<tr>\n",
       "  <th></th>                   <td>- 10-19-2022</td>   <th>                     </th>     <td> </td>    \n",
       "</tr>\n",
       "<tr>\n",
       "  <th>Covariance Type:</th>        <td>opg</td>       <th>                     </th>     <td> </td>    \n",
       "</tr>\n",
       "</table>\n",
       "<table class=\"simpletable\">\n",
       "<tr>\n",
       "     <td></td>       <th>coef</th>     <th>std err</th>      <th>z</th>      <th>P>|z|</th>  <th>[0.025</th>    <th>0.975]</th>  \n",
       "</tr>\n",
       "<tr>\n",
       "  <th>ar.L1</th>  <td>    0.0051</td> <td>    0.054</td> <td>    0.096</td> <td> 0.924</td> <td>   -0.100</td> <td>    0.110</td>\n",
       "</tr>\n",
       "<tr>\n",
       "  <th>ar.L2</th>  <td>   -0.0021</td> <td>    0.058</td> <td>   -0.037</td> <td> 0.971</td> <td>   -0.116</td> <td>    0.112</td>\n",
       "</tr>\n",
       "<tr>\n",
       "  <th>ar.L3</th>  <td>   -0.0511</td> <td>    0.059</td> <td>   -0.866</td> <td> 0.387</td> <td>   -0.167</td> <td>    0.065</td>\n",
       "</tr>\n",
       "<tr>\n",
       "  <th>ar.L4</th>  <td>    0.1257</td> <td>    0.059</td> <td>    2.128</td> <td> 0.033</td> <td>    0.010</td> <td>    0.242</td>\n",
       "</tr>\n",
       "<tr>\n",
       "  <th>ma.L1</th>  <td>   -0.9911</td> <td>    0.016</td> <td>  -60.432</td> <td> 0.000</td> <td>   -1.023</td> <td>   -0.959</td>\n",
       "</tr>\n",
       "<tr>\n",
       "  <th>sigma2</th> <td>  293.7263</td> <td>   24.711</td> <td>   11.886</td> <td> 0.000</td> <td>  245.294</td> <td>  342.159</td>\n",
       "</tr>\n",
       "</table>\n",
       "<table class=\"simpletable\">\n",
       "<tr>\n",
       "  <th>Ljung-Box (L1) (Q):</th>     <td>0.00</td> <th>  Jarque-Bera (JB):  </th> <td>15.61</td>\n",
       "</tr>\n",
       "<tr>\n",
       "  <th>Prob(Q):</th>                <td>0.98</td> <th>  Prob(JB):          </th> <td>0.00</td> \n",
       "</tr>\n",
       "<tr>\n",
       "  <th>Heteroskedasticity (H):</th> <td>0.85</td> <th>  Skew:              </th> <td>0.52</td> \n",
       "</tr>\n",
       "<tr>\n",
       "  <th>Prob(H) (two-sided):</th>    <td>0.42</td> <th>  Kurtosis:          </th> <td>3.47</td> \n",
       "</tr>\n",
       "</table><br/><br/>Warnings:<br/>[1] Covariance matrix calculated using the outer product of gradients (complex-step)."
      ],
      "text/latex": [
       "\\begin{center}\n",
       "\\begin{tabular}{lclc}\n",
       "\\toprule\n",
       "\\textbf{Dep. Variable:}          &       Qty        & \\textbf{  No. Observations:  } &    292      \\\\\n",
       "\\textbf{Model:}                  &  ARIMA(4, 1, 1)  & \\textbf{  Log Likelihood     } & -1241.721   \\\\\n",
       "\\textbf{Date:}                   & Thu, 19 Oct 2023 & \\textbf{  AIC                } &  2495.442   \\\\\n",
       "\\textbf{Time:}                   &     16:08:49     & \\textbf{  BIC                } &  2517.482   \\\\\n",
       "\\textbf{Sample:}                 &    01-01-2022    & \\textbf{  HQIC               } &  2504.271   \\\\\n",
       "\\textbf{}                        &   - 10-19-2022   & \\textbf{                     } &             \\\\\n",
       "\\textbf{Covariance Type:}        &       opg        & \\textbf{                     } &             \\\\\n",
       "\\bottomrule\n",
       "\\end{tabular}\n",
       "\\begin{tabular}{lcccccc}\n",
       "                & \\textbf{coef} & \\textbf{std err} & \\textbf{z} & \\textbf{P$> |$z$|$} & \\textbf{[0.025} & \\textbf{0.975]}  \\\\\n",
       "\\midrule\n",
       "\\textbf{ar.L1}  &       0.0051  &        0.054     &     0.096  &         0.924        &       -0.100    &        0.110     \\\\\n",
       "\\textbf{ar.L2}  &      -0.0021  &        0.058     &    -0.037  &         0.971        &       -0.116    &        0.112     \\\\\n",
       "\\textbf{ar.L3}  &      -0.0511  &        0.059     &    -0.866  &         0.387        &       -0.167    &        0.065     \\\\\n",
       "\\textbf{ar.L4}  &       0.1257  &        0.059     &     2.128  &         0.033        &        0.010    &        0.242     \\\\\n",
       "\\textbf{ma.L1}  &      -0.9911  &        0.016     &   -60.432  &         0.000        &       -1.023    &       -0.959     \\\\\n",
       "\\textbf{sigma2} &     293.7263  &       24.711     &    11.886  &         0.000        &      245.294    &      342.159     \\\\\n",
       "\\bottomrule\n",
       "\\end{tabular}\n",
       "\\begin{tabular}{lclc}\n",
       "\\textbf{Ljung-Box (L1) (Q):}     & 0.00 & \\textbf{  Jarque-Bera (JB):  } & 15.61  \\\\\n",
       "\\textbf{Prob(Q):}                & 0.98 & \\textbf{  Prob(JB):          } &  0.00  \\\\\n",
       "\\textbf{Heteroskedasticity (H):} & 0.85 & \\textbf{  Skew:              } &  0.52  \\\\\n",
       "\\textbf{Prob(H) (two-sided):}    & 0.42 & \\textbf{  Kurtosis:          } &  3.47  \\\\\n",
       "\\bottomrule\n",
       "\\end{tabular}\n",
       "%\\caption{SARIMAX Results}\n",
       "\\end{center}\n",
       "\n",
       "Warnings: \\newline\n",
       " [1] Covariance matrix calculated using the outer product of gradients (complex-step)."
      ],
      "text/plain": [
       "<class 'statsmodels.iolib.summary.Summary'>\n",
       "\"\"\"\n",
       "                               SARIMAX Results                                \n",
       "==============================================================================\n",
       "Dep. Variable:                    Qty   No. Observations:                  292\n",
       "Model:                 ARIMA(4, 1, 1)   Log Likelihood               -1241.721\n",
       "Date:                Thu, 19 Oct 2023   AIC                           2495.442\n",
       "Time:                        16:08:49   BIC                           2517.482\n",
       "Sample:                    01-01-2022   HQIC                          2504.271\n",
       "                         - 10-19-2022                                         \n",
       "Covariance Type:                  opg                                         \n",
       "==============================================================================\n",
       "                 coef    std err          z      P>|z|      [0.025      0.975]\n",
       "------------------------------------------------------------------------------\n",
       "ar.L1          0.0051      0.054      0.096      0.924      -0.100       0.110\n",
       "ar.L2         -0.0021      0.058     -0.037      0.971      -0.116       0.112\n",
       "ar.L3         -0.0511      0.059     -0.866      0.387      -0.167       0.065\n",
       "ar.L4          0.1257      0.059      2.128      0.033       0.010       0.242\n",
       "ma.L1         -0.9911      0.016    -60.432      0.000      -1.023      -0.959\n",
       "sigma2       293.7263     24.711     11.886      0.000     245.294     342.159\n",
       "===================================================================================\n",
       "Ljung-Box (L1) (Q):                   0.00   Jarque-Bera (JB):                15.61\n",
       "Prob(Q):                              0.98   Prob(JB):                         0.00\n",
       "Heteroskedasticity (H):               0.85   Skew:                             0.52\n",
       "Prob(H) (two-sided):                  0.42   Kurtosis:                         3.47\n",
       "===================================================================================\n",
       "\n",
       "Warnings:\n",
       "[1] Covariance matrix calculated using the outer product of gradients (complex-step).\n",
       "\"\"\""
      ]
     },
     "execution_count": 30,
     "metadata": {},
     "output_type": "execute_result"
    }
   ],
   "source": [
    "from statsmodels.tsa.arima.model import ARIMA\n",
    "\n",
    "# Mengganti baris kode model ARIMA\n",
    "model = ARIMA(train['Qty'], order=(4, 1, 1))\n",
    "model = model.fit()\n",
    "model.summary()"
   ]
  },
  {
   "cell_type": "markdown",
   "metadata": {},
   "source": [
    "Membuat prediksi di test set"
   ]
  },
  {
   "cell_type": "code",
   "execution_count": 31,
   "metadata": {},
   "outputs": [
    {
     "name": "stdout",
     "output_type": "stream",
     "text": [
      "Date\n",
      "2022-10-20    45.766021\n",
      "2022-10-21    49.807276\n",
      "2022-10-22    49.712249\n",
      "2022-10-23    47.467708\n",
      "2022-10-24    48.729608\n",
      "                ...    \n",
      "2022-12-27    49.202641\n",
      "2022-12-28    49.202641\n",
      "2022-12-29    49.202641\n",
      "2022-12-30    49.202641\n",
      "2022-12-31    49.202641\n",
      "Name: predicted_mean, Length: 73, dtype: float64\n"
     ]
    }
   ],
   "source": [
    "start = len(train)\n",
    "end = len(train)+len(test)-1\n",
    "pred = model.predict(start=start, end=end, type='levels')\n",
    "\n",
    "pred.index = df.index[start:end+1]\n",
    "print(pred)"
   ]
  },
  {
   "cell_type": "code",
   "execution_count": 32,
   "metadata": {},
   "outputs": [
    {
     "data": {
      "text/plain": [
       "<Axes: xlabel='Date'>"
      ]
     },
     "execution_count": 32,
     "metadata": {},
     "output_type": "execute_result"
    },
    {
     "data": {
      "image/png": "[encoded data removed]",
      "text/plain": [
       "<Figure size 640x480 with 1 Axes>"
      ]
     },
     "metadata": {},
     "output_type": "display_data"
    }
   ],
   "source": [
    "pred.plot(legend=True)\n",
    "test['Qty'].plot(legend=True)"
   ]
  },
  {
   "cell_type": "code",
   "execution_count": 33,
   "metadata": {},
   "outputs": [
    {
     "data": {
      "text/plain": [
       "45.52054794520548"
      ]
     },
     "execution_count": 33,
     "metadata": {},
     "output_type": "execute_result"
    }
   ],
   "source": [
    "test['Qty'].mean()"
   ]
  },
  {
   "cell_type": "markdown",
   "metadata": {},
   "source": [
    "# Evaluasi Model"
   ]
  },
  {
   "cell_type": "code",
   "execution_count": 34,
   "metadata": {},
   "outputs": [
    {
     "name": "stdout",
     "output_type": "stream",
     "text": [
      "(73, 1) (73,)\n"
     ]
    }
   ],
   "source": [
    "print(test.shape, pred.shape)"
   ]
  },
  {
   "cell_type": "code",
   "execution_count": 35,
   "metadata": {},
   "outputs": [
    {
     "name": "stdout",
     "output_type": "stream",
     "text": [
      "Test RMSE: 14.103\n"
     ]
    }
   ],
   "source": [
    "RMSE = sqrt(mean_squared_error(test, pred))\n",
    "print('Test RMSE: %.3f' % RMSE)"
   ]
  },
  {
   "cell_type": "markdown",
   "metadata": {},
   "source": [
    "# Hasil Prediksi"
   ]
  },
  {
   "cell_type": "code",
   "execution_count": 36,
   "metadata": {},
   "outputs": [
    {
     "data": {
      "text/html": [
       "<div>\n",
       "<style scoped>\n",
       "    .dataframe tbody tr th:only-of-type {\n",
       "        vertical-align: middle;\n",
       "    }\n",
       "\n",
       "    .dataframe tbody tr th {\n",
       "        vertical-align: top;\n",
       "    }\n",
       "\n",
       "    .dataframe thead th {\n",
       "        text-align: right;\n",
       "    }\n",
       "</style>\n",
       "<table border=\"1\" class=\"dataframe\">\n",
       "  <thead>\n",
       "    <tr style=\"text-align: right;\">\n",
       "      <th></th>\n",
       "      <th>Qty</th>\n",
       "    </tr>\n",
       "    <tr>\n",
       "      <th>Date</th>\n",
       "      <th></th>\n",
       "    </tr>\n",
       "  </thead>\n",
       "  <tbody>\n",
       "    <tr>\n",
       "      <th>2022-12-27</th>\n",
       "      <td>70</td>\n",
       "    </tr>\n",
       "    <tr>\n",
       "      <th>2022-12-28</th>\n",
       "      <td>61</td>\n",
       "    </tr>\n",
       "    <tr>\n",
       "      <th>2022-12-29</th>\n",
       "      <td>42</td>\n",
       "    </tr>\n",
       "    <tr>\n",
       "      <th>2022-12-30</th>\n",
       "      <td>40</td>\n",
       "    </tr>\n",
       "    <tr>\n",
       "      <th>2022-12-31</th>\n",
       "      <td>37</td>\n",
       "    </tr>\n",
       "  </tbody>\n",
       "</table>\n",
       "</div>"
      ],
      "text/plain": [
       "            Qty\n",
       "Date           \n",
       "2022-12-27   70\n",
       "2022-12-28   61\n",
       "2022-12-29   42\n",
       "2022-12-30   40\n",
       "2022-12-31   37"
      ]
     },
     "execution_count": 36,
     "metadata": {},
     "output_type": "execute_result"
    }
   ],
   "source": [
    "model2 = ARIMA(df['Qty'], order=(4,1,1))\n",
    "model2 = model2.fit()\n",
    "df.tail()"
   ]
  },
  {
   "cell_type": "markdown",
   "metadata": {},
   "source": [
    "Cek hasil prediksi"
   ]
  },
  {
   "cell_type": "code",
   "execution_count": 40,
   "metadata": {},
   "outputs": [
    {
     "data": {
      "text/plain": [
       "2022-12-31    48.380764\n",
       "2023-01-01    46.351270\n",
       "2023-01-02    46.163133\n",
       "2023-01-03    45.514522\n",
       "2023-01-04    46.748773\n",
       "2023-01-05    46.534222\n",
       "2023-01-06    46.527100\n",
       "2023-01-07    46.423651\n",
       "2023-01-08    46.557760\n",
       "2023-01-09    46.534962\n",
       "2023-01-10    46.536598\n",
       "2023-01-11    46.521963\n",
       "2023-01-12    46.536552\n",
       "2023-01-13    46.534084\n",
       "2023-01-14    46.534616\n",
       "2023-01-15    46.532674\n",
       "2023-01-16    46.534263\n",
       "2023-01-17    46.533988\n",
       "2023-01-18    46.534093\n",
       "2023-01-19    46.533846\n",
       "2023-01-20    46.534019\n",
       "2023-01-21    46.533988\n",
       "2023-01-22    46.534005\n",
       "2023-01-23    46.533974\n",
       "2023-01-24    46.533993\n",
       "2023-01-25    46.533989\n",
       "2023-01-26    46.533992\n",
       "2023-01-27    46.533988\n",
       "2023-01-28    46.533990\n",
       "2023-01-29    46.533990\n",
       "2023-01-30    46.533990\n",
       "2023-01-31    46.533990\n",
       "Freq: D, Name: ARIMA PREDICTION, dtype: float64"
      ]
     },
     "execution_count": 40,
     "metadata": {},
     "output_type": "execute_result"
    }
   ],
   "source": [
    "index_future_dates = pd.date_range(start='2022-12-31', end='2023-01-31')\n",
    "pred = model2.predict(start=len(df), end=len(df)+31, type='level').rename('ARIMA PREDICTION')\n",
    "pred.index = index_future_dates\n",
    "pred"
   ]
  },
  {
   "cell_type": "code",
   "execution_count": 38,
   "metadata": {},
   "outputs": [
    {
     "data": {
      "text/plain": [
       "<Axes: >"
      ]
     },
     "execution_count": 38,
     "metadata": {},
     "output_type": "execute_result"
    },
    {
     "data": {
      "image/png": "[encoded data removed]",
      "text/plain": [
       "<Figure size 1000x300 with 1 Axes>"
      ]
     },
     "metadata": {},
     "output_type": "display_data"
    }
   ],
   "source": [
    "pred.plot(figsize=(10,3), legend=True)"
   ]
  },
  {
   "cell_type": "code",
   "execution_count": 39,
   "metadata": {},
   "outputs": [],
   "source": [
    "pred.to_csv(\"Data/Data Bersih(SQL)/~Hasil_prediski.csv\")"
   ]
  }
 ],
 "metadata": {
  "kernelspec": {
   "display_name": "Deployment2-A3cDa8YU",
   "language": "python",
   "name": "python3"
  },
  "language_info": {
   "codemirror_mode": {
    "name": "ipython",
    "version": 3
   },
   "file_extension": ".py",
   "mimetype": "text/x-python",
   "name": "python",
   "nbconvert_exporter": "python",
   "pygments_lexer": "ipython3",
   "version": "3.10.11"
  }
 },
 "nbformat": 4,
 "nbformat_minor": 2
}
